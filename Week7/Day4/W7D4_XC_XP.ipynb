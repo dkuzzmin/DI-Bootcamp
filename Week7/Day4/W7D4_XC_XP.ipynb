{
  "nbformat": 4,
  "nbformat_minor": 0,
  "metadata": {
    "colab": {
      "provenance": [],
      "authorship_tag": "ABX9TyOH3jjByC+4FPY6t327H/Iz",
      "include_colab_link": true
    },
    "kernelspec": {
      "name": "python3",
      "display_name": "Python 3"
    },
    "language_info": {
      "name": "python"
    }
  },
  "cells": [
    {
      "cell_type": "markdown",
      "metadata": {
        "id": "view-in-github",
        "colab_type": "text"
      },
      "source": [
        "<a href=\"https://colab.research.google.com/github/dkuzzmin/DI-Bootcamp/blob/main/Week7/Day4/W7D4_XC_XP.ipynb\" target=\"_parent\"><img src=\"https://colab.research.google.com/assets/colab-badge.svg\" alt=\"Open In Colab\"/></a>"
      ]
    },
    {
      "cell_type": "markdown",
      "source": [
        "# Exercise 1 : Defining The Problem And Data Collection For Loan Default Prediction"
      ],
      "metadata": {
        "id": "MeaBxRG2itlE"
      }
    },
    {
      "cell_type": "markdown",
      "source": [
        "**Problem statement:** is to assess and predict potential default based on the initial data of a specific applicant. To do this, accumulate various relevant data on existing clients and train a machine learning model based on them."
      ],
      "metadata": {
        "id": "EB9nGPHWitw2"
      }
    },
    {
      "cell_type": "markdown",
      "source": [
        "**Data needed:**\n",
        "1. Age\n",
        "2. Family status (married, number of children)\n",
        "3. Work status\n",
        "4. Monthly salary\n",
        "5. Other incomes\n",
        "6. Loan details (purpose, amount, interest rate, term)\n",
        "7. Credit score\n",
        "8. Date of relationship with bank\n",
        "9. Other debts\n",
        "\n",
        "**Sources of Data:**\n",
        "1. Internal bank records\n",
        "2. Completed applicant's form\n",
        "3. Credit Bureaus\n",
        "4. Payment History\n",
        "5. Statistic information in region\n",
        "\n"
      ],
      "metadata": {
        "id": "vVCztfH3itzS"
      }
    },
    {
      "cell_type": "markdown",
      "source": [
        "# Exercise 2: Feature Selection And Model Choice For Loan Default Prediction"
      ],
      "metadata": {
        "id": "-wancrtCit1n"
      }
    },
    {
      "cell_type": "markdown",
      "source": [
        "Most relevant for predicting loan defaults:\n",
        "1.   Monthly salary / loan: higher ratio \"month salary / loan\" suggest capacity to pay\n",
        "2.   Credit score : complex calculated unified indicator (predictor) that takes into account many factors\n",
        "\n",
        "\n"
      ],
      "metadata": {
        "id": "gytDHffbrXVP"
      }
    },
    {
      "cell_type": "markdown",
      "source": [
        "# Exercise 3: Training, Evaluating, And Optimizing The Model"
      ],
      "metadata": {
        "id": "vPVx_h2GrXZP"
      }
    },
    {
      "cell_type": "markdown",
      "source": [
        "In most cases the following indicators are important when we predicting loan default:\n",
        "\n",
        "False Negatives: These are situations where the model predicts that loan will be repaid, but in fact the loan ends up defaulting. It involve a loss for the lender, as it means the lender may issue a loan to borrower who fails to pay.\n",
        "\n",
        "True Negatives: These are situations where the model correctly predicts that the loan will not default. It is important because they help avoid unnecessary restrictions and controlled risks for the lender.\n",
        "\n",
        "The most important metric in my opinion is Precision. This metric that measures the proportion of correctly predicted defaulted loans relative to all loans that were predicted to default. If you have strict limits on the number of false positives, then you can consider accuracy a more important metric."
      ],
      "metadata": {
        "id": "hhulrX4LrXcs"
      }
    },
    {
      "cell_type": "markdown",
      "source": [
        "# Exercise 4: Designing Machine Learning Solutions For Specific Problems"
      ],
      "metadata": {
        "id": "y9CxsdGhrXfm"
      }
    },
    {
      "cell_type": "markdown",
      "source": [
        "1. Predicting Stock Prices: Supervised Learning\n",
        "\n",
        "Prediction of prices involves analyzing historical market data to make future price forecasts.\n",
        "\n",
        "\n",
        "2. Organizing a Library of Books: Unsupervised Learning\n",
        "\n",
        "The system tries to learn the patterns and structures from the books author, title, genres.\n",
        "\n",
        "\n",
        "3. Program a robot to navigate and find the shortest path in a maze:\n",
        "Reinforcement Learning\n",
        "\n",
        "Reinforcement Learning is employed by various machines to find the best possible path. Finding the shortest path is needed to receiving reward to model"
      ],
      "metadata": {
        "id": "DIjUVE4b6sbo"
      }
    },
    {
      "cell_type": "markdown",
      "source": [
        "# Exercise 5: Designing An Evaluation Strategy For Different ML Models"
      ],
      "metadata": {
        "id": "js5t3iyP-9A7"
      }
    },
    {
      "cell_type": "markdown",
      "source": [
        "1. Supervised Learning Model: Determining the type of disease based on medical images\n",
        "\n",
        "Evaluation Strategy: Recall\n",
        "\n",
        "\n",
        "2. Unsupervised Learning Model: Clustering consumers into groups with similar habits based on their purchases\n",
        "\n",
        "Evaluation Strategy: Silhouette score, elbow method, or other cluster validation metrics\n",
        "\n",
        "\n",
        "3. Reinforcement Learning Model: Autonomous car training\n",
        "\n",
        "Evaluation Strategy: Cumulative Reward. This method reflects the amount of rewards or penalties received by the ML-model. In the context of autonomous cars this could refer the overall success of driving along an entire route"
      ],
      "metadata": {
        "id": "SrIRk-qHit4B"
      }
    }
  ]
}