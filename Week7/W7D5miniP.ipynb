{
 "cells": [
  {
   "cell_type": "code",
   "execution_count": 64,
   "metadata": {},
   "outputs": [],
   "source": [
    "from selenium import webdriver\n",
    "from selenium.webdriver.common.keys import Keys\n",
    "from selenium.webdriver.common.by import By\n",
    "from selenium.webdriver.support.ui import WebDriverWait\n",
    "from selenium.webdriver.support import expected_conditions as EC\n",
    "import pprint\n",
    "from urllib.request import urlopen\n",
    "from bs4 import BeautifulSoup\n",
    "import pandas as pd"
   ]
  },
  {
   "cell_type": "code",
   "execution_count": 87,
   "metadata": {},
   "outputs": [],
   "source": [
    "options = webdriver.ChromeOptions()\n",
    "options.add_argument('--headless')  # Run Chrome in headless mode\n",
    "options.add_argument(\"--no-sandbox\")  # Bypass OS security model\n",
    "options.add_argument(\"--disable-dev-shm-usage\")  # Overcome limited resource problems\n",
    "driver = webdriver.Chrome(options=options)\n",
    "\n",
    "url = 'https://www.inmotionhosting.com/'\n",
    "driver.get(url)"
   ]
  },
  {
   "cell_type": "code",
   "execution_count": 66,
   "metadata": {},
   "outputs": [],
   "source": [
    "wait = WebDriverWait(driver, 10)"
   ]
  },
  {
   "cell_type": "code",
   "execution_count": 67,
   "metadata": {},
   "outputs": [],
   "source": [
    "html = driver.page_source"
   ]
  },
  {
   "cell_type": "code",
   "execution_count": 68,
   "metadata": {},
   "outputs": [
    {
     "data": {
      "text/plain": [
       "['Shared Hosting',\n",
       " 'VPS Hosting',\n",
       " 'Dedicated Hosting',\n",
       " 'cPanel WordPress',\n",
       " 'Platform i Cloud']"
      ]
     },
     "execution_count": 68,
     "metadata": {},
     "output_type": "execute_result"
    }
   ],
   "source": [
    "soup = BeautifulSoup(html, 'html.parser') \n",
    "titles = [item.get_text() for item in soup.find_all('h3', {'class' : 'imh-rostrum-card-title'})[:5]]\n",
    "titles"
   ]
  },
  {
   "cell_type": "code",
   "execution_count": 69,
   "metadata": {},
   "outputs": [
    {
     "data": {
      "text/plain": [
       "['Cost effective and fast for small businesses',\n",
       " 'For high traffic sites and larger businesses',\n",
       " 'For the largest sites and custom deployments',\n",
       " 'Expertly tuned hosting with cPanel',\n",
       " 'Next generation managed WordPress']"
      ]
     },
     "execution_count": 69,
     "metadata": {},
     "output_type": "execute_result"
    }
   ],
   "source": [
    "des = [item.get_text() for item in soup.find_all('span', {'class' : 'imh-rostrum-sub-heading'})[:5]]\n",
    "des"
   ]
  },
  {
   "cell_type": "code",
   "execution_count": 70,
   "metadata": {},
   "outputs": [
    {
     "data": {
      "text/plain": [
       "['$2.49/mo', '$2.99/mo', '$3.49/mo', '$14.99/mo', '$14.99/mo']"
      ]
     },
     "execution_count": 70,
     "metadata": {},
     "output_type": "execute_result"
    }
   ],
   "source": [
    "prices = [item.get_text() for item in soup.find_all('div', {'class' : 'imh-rostrum-starting-at-price-discounted'})[:5]]\n",
    "prices"
   ]
  },
  {
   "cell_type": "code",
   "execution_count": 109,
   "metadata": {},
   "outputs": [
    {
     "data": {
      "text/plain": [
       "[2.49, 2.99, 3.49, 14.99, 14.99]"
      ]
     },
     "execution_count": 109,
     "metadata": {},
     "output_type": "execute_result"
    }
   ],
   "source": [
    "d = [float(i[1:-3]) for i in prices]\n",
    "d"
   ]
  },
  {
   "cell_type": "code",
   "execution_count": 110,
   "metadata": {},
   "outputs": [
    {
     "data": {
      "text/html": [
       "<div>\n",
       "<style scoped>\n",
       "    .dataframe tbody tr th:only-of-type {\n",
       "        vertical-align: middle;\n",
       "    }\n",
       "\n",
       "    .dataframe tbody tr th {\n",
       "        vertical-align: top;\n",
       "    }\n",
       "\n",
       "    .dataframe thead th {\n",
       "        text-align: right;\n",
       "    }\n",
       "</style>\n",
       "<table border=\"1\" class=\"dataframe\">\n",
       "  <thead>\n",
       "    <tr style=\"text-align: right;\">\n",
       "      <th></th>\n",
       "      <th>Titles</th>\n",
       "      <th>Descrip</th>\n",
       "      <th>Prices</th>\n",
       "    </tr>\n",
       "  </thead>\n",
       "  <tbody>\n",
       "    <tr>\n",
       "      <th>0</th>\n",
       "      <td>Shared Hosting</td>\n",
       "      <td>Cost effective and fast for small businesses</td>\n",
       "      <td>2.49</td>\n",
       "    </tr>\n",
       "    <tr>\n",
       "      <th>1</th>\n",
       "      <td>VPS Hosting</td>\n",
       "      <td>For high traffic sites and larger businesses</td>\n",
       "      <td>2.99</td>\n",
       "    </tr>\n",
       "    <tr>\n",
       "      <th>2</th>\n",
       "      <td>Dedicated Hosting</td>\n",
       "      <td>For the largest sites and custom deployments</td>\n",
       "      <td>3.49</td>\n",
       "    </tr>\n",
       "    <tr>\n",
       "      <th>3</th>\n",
       "      <td>cPanel WordPress</td>\n",
       "      <td>Expertly tuned hosting with cPanel</td>\n",
       "      <td>14.99</td>\n",
       "    </tr>\n",
       "    <tr>\n",
       "      <th>4</th>\n",
       "      <td>Platform i Cloud</td>\n",
       "      <td>Next generation managed WordPress</td>\n",
       "      <td>14.99</td>\n",
       "    </tr>\n",
       "  </tbody>\n",
       "</table>\n",
       "</div>"
      ],
      "text/plain": [
       "              Titles                                       Descrip  Prices\n",
       "0     Shared Hosting  Cost effective and fast for small businesses    2.49\n",
       "1        VPS Hosting  For high traffic sites and larger businesses    2.99\n",
       "2  Dedicated Hosting  For the largest sites and custom deployments    3.49\n",
       "3   cPanel WordPress            Expertly tuned hosting with cPanel   14.99\n",
       "4   Platform i Cloud             Next generation managed WordPress   14.99"
      ]
     },
     "execution_count": 110,
     "metadata": {},
     "output_type": "execute_result"
    }
   ],
   "source": [
    "df = pd.DataFrame(data = {'Titles' : titles, 'Descrip' : des, 'Prices' : d})\n",
    "df"
   ]
  },
  {
   "cell_type": "code",
   "execution_count": 111,
   "metadata": {},
   "outputs": [],
   "source": [
    "df.to_csv('my_data.csv')"
   ]
  },
  {
   "cell_type": "code",
   "execution_count": 112,
   "metadata": {},
   "outputs": [],
   "source": [
    "driver.quit()"
   ]
  },
  {
   "cell_type": "code",
   "execution_count": null,
   "metadata": {},
   "outputs": [],
   "source": [
    "\n",
    "# wait = WebDriverWait(driver, 10)\n",
    "# wait.until(EC.visibility_of_element_located((By.CLASS_NAME, 'btn-secondary-alt hero-pricing-cta-text cta-pricing')))\n",
    "# # wait.until(EC.visibility_of_element_located((By.CLASS_NAME, 'wr-day__title')))\n",
    "\n",
    "# element = driver.find_elements(By.CLASS_NAME, 'btn-secondary-alt hero-pricing-cta-text cta-pricing')\n",
    "# # element = driver.find_elements(By.TAG_NAME, 'a')\n",
    "# # [item.text for item in element]\n",
    "\n",
    "# element\n",
    "# element.text\n",
    "# element.click()\n",
    "# driver.current_url\n",
    "# "
   ]
  }
 ],
 "metadata": {
  "kernelspec": {
   "display_name": "Python 3",
   "language": "python",
   "name": "python3"
  },
  "language_info": {
   "codemirror_mode": {
    "name": "ipython",
    "version": 3
   },
   "file_extension": ".py",
   "mimetype": "text/x-python",
   "name": "python",
   "nbconvert_exporter": "python",
   "pygments_lexer": "ipython3",
   "version": "3.12.0"
  }
 },
 "nbformat": 4,
 "nbformat_minor": 2
}
