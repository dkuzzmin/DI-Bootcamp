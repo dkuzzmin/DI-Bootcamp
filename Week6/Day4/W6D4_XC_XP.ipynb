{
  "nbformat": 4,
  "nbformat_minor": 0,
  "metadata": {
    "colab": {
      "provenance": [],
      "authorship_tag": "ABX9TyNJrZEd5Tg4AJ0qdphgcB5O",
      "include_colab_link": true
    },
    "kernelspec": {
      "name": "python3",
      "display_name": "Python 3"
    },
    "language_info": {
      "name": "python"
    }
  },
  "cells": [
    {
      "cell_type": "markdown",
      "metadata": {
        "id": "view-in-github",
        "colab_type": "text"
      },
      "source": [
        "<a href=\"https://colab.research.google.com/github/dkuzzmin/DI-Bootcamp/blob/main/Week6/Day4/W6D4_XC_XP.ipynb\" target=\"_parent\"><img src=\"https://colab.research.google.com/assets/colab-badge.svg\" alt=\"Open In Colab\"/></a>"
      ]
    },
    {
      "cell_type": "code",
      "execution_count": 4,
      "metadata": {
        "id": "dg_YWowJtLiF"
      },
      "outputs": [],
      "source": [
        "import numpy as np\n",
        "import pandas as pd\n",
        "from scipy import stats\n",
        "import matplotlib.pyplot as plt\n"
      ]
    },
    {
      "cell_type": "markdown",
      "source": [
        "# Exercise 1 : Linear Regression Analysis"
      ],
      "metadata": {
        "id": "lWAH1CiGtVZ8"
      }
    },
    {
      "cell_type": "code",
      "source": [
        "\n",
        "house_sizes = np.array([50, 70, 80, 100, 120])\n",
        "\n",
        "house_prices = np.array([150000, 200000, 210000, 250000, 280000])\n",
        "house_sizes\n",
        "house_prices"
      ],
      "metadata": {
        "colab": {
          "base_uri": "https://localhost:8080/"
        },
        "id": "KFhyld-utVjj",
        "outputId": "8e07e407-41ab-48f1-a629-9c0d5c36eadd"
      },
      "execution_count": 5,
      "outputs": [
        {
          "output_type": "execute_result",
          "data": {
            "text/plain": [
              "array([150000, 200000, 210000, 250000, 280000])"
            ]
          },
          "metadata": {},
          "execution_count": 5
        }
      ]
    },
    {
      "cell_type": "code",
      "source": [
        "slope, intercept, r_value, p_value, std_err = stats.linregress(house_sizes, house_prices)\n",
        "\n",
        "print(f\"Slope: {slope}\")\n",
        "print(f\"Intercept: {intercept}\")\n",
        "\n"
      ],
      "metadata": {
        "colab": {
          "base_uri": "https://localhost:8080/"
        },
        "id": "x9-GR6NutVl9",
        "outputId": "cec40267-cd36-41f7-8997-1db0650a6f67"
      },
      "execution_count": 8,
      "outputs": [
        {
          "output_type": "stream",
          "name": "stdout",
          "text": [
            "Slope: 1828.7671232876712\n",
            "Intercept: 64383.56164383562\n"
          ]
        }
      ]
    },
    {
      "cell_type": "markdown",
      "source": [
        "Predict the price of a house that is 90 square meters."
      ],
      "metadata": {
        "id": "HS0r_nlQu1-W"
      }
    },
    {
      "cell_type": "code",
      "source": [
        "price_pred = 90 * slope +intercept\n",
        "price_pred"
      ],
      "metadata": {
        "colab": {
          "base_uri": "https://localhost:8080/"
        },
        "id": "GpzuhpootVoP",
        "outputId": "b6a8e672-533f-4355-e98d-65bede54a271"
      },
      "execution_count": 9,
      "outputs": [
        {
          "output_type": "execute_result",
          "data": {
            "text/plain": [
              "228972.60273972602"
            ]
          },
          "metadata": {},
          "execution_count": 9
        }
      ]
    },
    {
      "cell_type": "markdown",
      "source": [
        "For each extra square meter you can increase the house price to the slope\n",
        "\n",
        "Intercept represents the estimated baseline (default) house price at this dataset, excluding the area of the house"
      ],
      "metadata": {
        "id": "vdjVKHflvZUC"
      }
    },
    {
      "cell_type": "markdown",
      "source": [
        "#  Exercise 2 : Understanding ANOVA"
      ],
      "metadata": {
        "id": "a1rx8EFqwJtu"
      }
    },
    {
      "cell_type": "code",
      "source": [
        "\n",
        "fertilizer_1 = np.array([5, 6, 7, 6, 5])\n",
        "fertilizer_2 = np.array([7, 8, 7, 9, 8])\n",
        "fertilizer_3 = np.array([4, 5, 4, 3, 4])"
      ],
      "metadata": {
        "id": "D-g6SJDqw-IY"
      },
      "execution_count": 10,
      "outputs": []
    },
    {
      "cell_type": "code",
      "source": [
        "f_value, p_value = stats.f_oneway(fertilizer_1, fertilizer_2, fertilizer_3)\n",
        "\n",
        "\n",
        "print(\"F-value:\", f_value)\n",
        "print(\"P-value:\", p_value)"
      ],
      "metadata": {
        "colab": {
          "base_uri": "https://localhost:8080/"
        },
        "id": "gXVN7-YetVtc",
        "outputId": "bab3b1dd-d85d-4924-8a57-de1bb2ff9017"
      },
      "execution_count": 11,
      "outputs": [
        {
          "output_type": "stream",
          "name": "stdout",
          "text": [
            "F-value: 28.52631578947368\n",
            "P-value: 2.7542672098048448e-05\n"
          ]
        }
      ]
    },
    {
      "cell_type": "markdown",
      "source": [
        "The fertilizers have significantly different effects on plant growth\n",
        "\n",
        "\n",
        "If the P-value is greater than 0.05, there are no significant differences among the fertilizers."
      ],
      "metadata": {
        "id": "xsODfsQQxP5o"
      }
    },
    {
      "cell_type": "markdown",
      "source": [
        "# Exercise 3 : Probability Distributions"
      ],
      "metadata": {
        "id": "RKXegMM_x_N-"
      }
    },
    {
      "cell_type": "code",
      "source": [
        "\n",
        "p = stats.binom.pmf(5, 10, 0.5)\n",
        "print(f\"Probability: {p}:\")\n"
      ],
      "metadata": {
        "colab": {
          "base_uri": "https://localhost:8080/"
        },
        "id": "Ex581dsJyB4Y",
        "outputId": "a50f7875-481c-42a0-e2dc-2159b3c2fea0"
      },
      "execution_count": 18,
      "outputs": [
        {
          "output_type": "stream",
          "name": "stdout",
          "text": [
            "Probability: 0.24609375000000003:\n"
          ]
        }
      ]
    },
    {
      "cell_type": "markdown",
      "source": [
        "# Exercise 4 : Correlation Coefficients"
      ],
      "metadata": {
        "id": "Y0yt9uZ18-8U"
      }
    },
    {
      "cell_type": "code",
      "source": [
        "df = pd.DataFrame({'age': [23, 25, 30, 35, 40], 'income': [35000, 40000, 50000, 60000, 70000]})\n",
        "\n",
        "pears = df['age'].corr(df['income'], method='pearson')\n",
        "spear = df['age'].corr(df['income'], method='spearman')\n",
        "\n",
        "\n",
        "\n",
        "print(f\"Pearson coefficient: {pears}\")\n",
        "print(f\"Spearman coefficient: {spear}\")\n"
      ],
      "metadata": {
        "colab": {
          "base_uri": "https://localhost:8080/"
        },
        "id": "OstV3YJd7hi5",
        "outputId": "f33b95ec-513e-413c-e9ce-2680f7648efe"
      },
      "execution_count": 23,
      "outputs": [
        {
          "output_type": "stream",
          "name": "stdout",
          "text": [
            "Pearson coefficient: 0.9996907452347203\n",
            "Spearman coefficient: 0.9999999999999999\n"
          ]
        }
      ]
    },
    {
      "cell_type": "markdown",
      "source": [
        "# Exercise 5 : Linear Relationships"
      ],
      "metadata": {
        "id": "iinrNEEb-T7h"
      }
    },
    {
      "cell_type": "code",
      "source": [
        "df = pd.DataFrame({'age': [23, 25, 30, 35, 40], 'income': [35000, 40000, 50000, 60000, 70000]})\n"
      ],
      "metadata": {
        "id": "2xIyzAEi9h1T"
      },
      "execution_count": 25,
      "outputs": []
    },
    {
      "cell_type": "code",
      "source": [
        "plt.figure(figsize=(8, 6))\n",
        "plt.scatter(df['age'], df['income'])\n",
        "plt.title('Scatter Plot')\n",
        "\n",
        "\n",
        "plt.show()"
      ],
      "metadata": {
        "colab": {
          "base_uri": "https://localhost:8080/",
          "height": 544
        },
        "id": "p8g5b_JW-cMM",
        "outputId": "d32f4070-51a9-4557-f92a-47867afdc610"
      },
      "execution_count": 30,
      "outputs": [
        {
          "output_type": "display_data",
          "data": {
            "text/plain": [
              "<Figure size 800x600 with 1 Axes>"
            ],
            "image/png": "[encoded data removed]"
          },
          "metadata": {}
        }
      ]
    },
    {
      "cell_type": "code",
      "source": [],
      "metadata": {
        "id": "DzMErvC0-y4E"
      },
      "execution_count": null,
      "outputs": []
    }
  ]
}