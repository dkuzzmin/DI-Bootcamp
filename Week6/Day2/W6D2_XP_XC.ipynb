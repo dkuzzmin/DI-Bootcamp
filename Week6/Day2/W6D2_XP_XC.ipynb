{
  "nbformat": 4,
  "nbformat_minor": 0,
  "metadata": {
    "colab": {
      "provenance": [],
      "authorship_tag": "ABX9TyMw0yBxzcxCoLF8TGz76Pkb",
      "include_colab_link": true
    },
    "kernelspec": {
      "name": "python3",
      "display_name": "Python 3"
    },
    "language_info": {
      "name": "python"
    }
  },
  "cells": [
    {
      "cell_type": "markdown",
      "metadata": {
        "id": "view-in-github",
        "colab_type": "text"
      },
      "source": [
        "<a href=\"https://colab.research.google.com/github/dkuzzmin/DI-Bootcamp/blob/main/Week6/Day2/W6D2_XP_XC.ipynb\" target=\"_parent\"><img src=\"https://colab.research.google.com/assets/colab-badge.svg\" alt=\"Open In Colab\"/></a>"
      ]
    },
    {
      "cell_type": "code",
      "execution_count": 23,
      "metadata": {
        "id": "9gw6sr_w6MiU"
      },
      "outputs": [],
      "source": [
        "import numpy as np\n",
        "import pandas as pd\n",
        "import matplotlib.pyplot as plt"
      ]
    },
    {
      "cell_type": "markdown",
      "source": [
        "# Exercise 1 : Matrix Operations"
      ],
      "metadata": {
        "id": "-KZ-jnaC7tX8"
      }
    },
    {
      "cell_type": "code",
      "source": [
        "array = np.arange(5,14).reshape(3,3)\n",
        "array"
      ],
      "metadata": {
        "colab": {
          "base_uri": "https://localhost:8080/"
        },
        "id": "EwGMLYYB6Yse",
        "outputId": "df9a364e-b5ed-4e48-cdc5-3a0480314831"
      },
      "execution_count": 7,
      "outputs": [
        {
          "output_type": "execute_result",
          "data": {
            "text/plain": [
              "array([[ 5,  6,  7],\n",
              "       [ 8,  9, 10],\n",
              "       [11, 12, 13]])"
            ]
          },
          "metadata": {},
          "execution_count": 7
        }
      ]
    },
    {
      "cell_type": "code",
      "source": [
        "array = np.array([[ 5,  6,  7],\n",
        "       [ 8,  -9, 10],\n",
        "       [-11, 12, 13]])"
      ],
      "metadata": {
        "id": "et1HEZz69yiu"
      },
      "execution_count": 10,
      "outputs": []
    },
    {
      "cell_type": "code",
      "source": [
        "deter = np.linalg.det(array)\n",
        "deter"
      ],
      "metadata": {
        "colab": {
          "base_uri": "https://localhost:8080/"
        },
        "id": "jLMHY2CK6YvD",
        "outputId": "c6ca9ac7-c33d-423d-a594-469caac49324"
      },
      "execution_count": 11,
      "outputs": [
        {
          "output_type": "execute_result",
          "data": {
            "text/plain": [
              "-2490.0"
            ]
          },
          "metadata": {},
          "execution_count": 11
        }
      ]
    },
    {
      "cell_type": "code",
      "source": [
        "array_inv = np.linalg.inv(array)\n",
        "array_inv"
      ],
      "metadata": {
        "colab": {
          "base_uri": "https://localhost:8080/"
        },
        "id": "NEQIQ0ln9ln4",
        "outputId": "d60ad7aa-4e52-4ebd-9103-f369fef11ad8"
      },
      "execution_count": 12,
      "outputs": [
        {
          "output_type": "execute_result",
          "data": {
            "text/plain": [
              "array([[ 0.09518072, -0.00240964, -0.04939759],\n",
              "       [ 0.08594378, -0.05702811, -0.00240964],\n",
              "       [ 0.00120482,  0.05060241,  0.0373494 ]])"
            ]
          },
          "metadata": {},
          "execution_count": 12
        }
      ]
    },
    {
      "cell_type": "markdown",
      "source": [
        "Lets check inverse matrix"
      ],
      "metadata": {
        "id": "l3mHrwKfAE9t"
      }
    },
    {
      "cell_type": "code",
      "source": [
        "ar = np.dot(array, array_inv)\n",
        "ar"
      ],
      "metadata": {
        "colab": {
          "base_uri": "https://localhost:8080/"
        },
        "id": "ZIdhdlsM_FhS",
        "outputId": "57a1d781-f64c-4578-9414-372b2d4bf27a"
      },
      "execution_count": 15,
      "outputs": [
        {
          "output_type": "execute_result",
          "data": {
            "text/plain": [
              "array([[ 1.00000000e+00,  6.93889390e-18, -1.38777878e-17],\n",
              "       [-9.49761103e-17,  1.00000000e+00, -2.77555756e-17],\n",
              "       [ 2.17924637e-16,  2.08166817e-17,  1.00000000e+00]])"
            ]
          },
          "metadata": {},
          "execution_count": 15
        }
      ]
    },
    {
      "cell_type": "code",
      "source": [
        "arr = np.round(ar)\n",
        "arr"
      ],
      "metadata": {
        "colab": {
          "base_uri": "https://localhost:8080/"
        },
        "id": "8nAad9r4_Kv6",
        "outputId": "3fc3e387-ef12-4004-fa26-ea9b11e3b780"
      },
      "execution_count": 19,
      "outputs": [
        {
          "output_type": "execute_result",
          "data": {
            "text/plain": [
              "array([[ 1.,  0., -0.],\n",
              "       [-0.,  1., -0.],\n",
              "       [ 0.,  0.,  1.]])"
            ]
          },
          "metadata": {},
          "execution_count": 19
        }
      ]
    },
    {
      "cell_type": "markdown",
      "source": [
        "# Exercise 2 : Statistical Analysis"
      ],
      "metadata": {
        "id": "qyQdV7hgAJK9"
      }
    },
    {
      "cell_type": "code",
      "source": [
        "array = np.random.randint(1,100,50)\n",
        "array"
      ],
      "metadata": {
        "colab": {
          "base_uri": "https://localhost:8080/"
        },
        "id": "dtucngX-_xUb",
        "outputId": "20702325-ea11-40eb-ea91-6de4965d0efc"
      },
      "execution_count": 28,
      "outputs": [
        {
          "output_type": "execute_result",
          "data": {
            "text/plain": [
              "array([14, 44, 71,  8, 84,  9, 87, 98, 98, 97, 87, 16, 17, 45, 26, 46, 46,\n",
              "       77, 55,  1, 82, 75, 63, 90, 28, 39, 34, 67, 20, 34, 15, 45, 42, 82,\n",
              "       57, 64, 90, 95, 25, 25, 27, 57, 80, 59, 10, 50, 90, 50, 93, 94])"
            ]
          },
          "metadata": {},
          "execution_count": 28
        }
      ]
    },
    {
      "cell_type": "code",
      "source": [
        "arr_mean = np.mean(array)\n",
        "arr_mean"
      ],
      "metadata": {
        "colab": {
          "base_uri": "https://localhost:8080/"
        },
        "id": "vnVd2WtoAXYy",
        "outputId": "de8b093c-b441-4f19-b0bd-6e3206068ede"
      },
      "execution_count": 29,
      "outputs": [
        {
          "output_type": "execute_result",
          "data": {
            "text/plain": [
              "54.16"
            ]
          },
          "metadata": {},
          "execution_count": 29
        }
      ]
    },
    {
      "cell_type": "code",
      "source": [
        "arr_median = np.median(array)\n",
        "arr_median"
      ],
      "metadata": {
        "colab": {
          "base_uri": "https://localhost:8080/"
        },
        "id": "F1PbuX_vB3QP",
        "outputId": "45760585-0d11-4b90-fc83-15d9ffa4677a"
      },
      "execution_count": 32,
      "outputs": [
        {
          "output_type": "execute_result",
          "data": {
            "text/plain": [
              "52.5"
            ]
          },
          "metadata": {},
          "execution_count": 32
        }
      ]
    },
    {
      "cell_type": "code",
      "source": [
        "arr_dev = np.std(array)\n",
        "arr_dev"
      ],
      "metadata": {
        "colab": {
          "base_uri": "https://localhost:8080/"
        },
        "id": "d3T6E5gkAXbe",
        "outputId": "6176cf7e-079b-4dc8-d0ca-7231cf3c5c70"
      },
      "execution_count": 31,
      "outputs": [
        {
          "output_type": "execute_result",
          "data": {
            "text/plain": [
              "29.26524218249355"
            ]
          },
          "metadata": {},
          "execution_count": 31
        }
      ]
    },
    {
      "cell_type": "markdown",
      "source": [
        "# Exercise 3 : Date Manipulation"
      ],
      "metadata": {
        "id": "qqBKI-VlDeLi"
      }
    },
    {
      "cell_type": "code",
      "source": [
        "array_jan = np.arange('2024-01', '2024-02', dtype='datetime64[D]')\n",
        "\n",
        "array_jan\n"
      ],
      "metadata": {
        "colab": {
          "base_uri": "https://localhost:8080/"
        },
        "id": "W9RqPVZaAXd9",
        "outputId": "80f16081-e5ea-441a-b2bc-f582970b4779"
      },
      "execution_count": 42,
      "outputs": [
        {
          "output_type": "execute_result",
          "data": {
            "text/plain": [
              "array(['2024-01-01', '2024-01-02', '2024-01-03', '2024-01-04',\n",
              "       '2024-01-05', '2024-01-06', '2024-01-07', '2024-01-08',\n",
              "       '2024-01-09', '2024-01-10', '2024-01-11', '2024-01-12',\n",
              "       '2024-01-13', '2024-01-14', '2024-01-15', '2024-01-16',\n",
              "       '2024-01-17', '2024-01-18', '2024-01-19', '2024-01-20',\n",
              "       '2024-01-21', '2024-01-22', '2024-01-23', '2024-01-24',\n",
              "       '2024-01-25', '2024-01-26', '2024-01-27', '2024-01-28',\n",
              "       '2024-01-29', '2024-01-30', '2024-01-31'], dtype='datetime64[D]')"
            ]
          },
          "metadata": {},
          "execution_count": 42
        }
      ]
    },
    {
      "cell_type": "code",
      "source": [
        "formatted_dates = np.datetime_as_string(array_jan, unit='W')\n",
        "formatted_dates\n"
      ],
      "metadata": {
        "colab": {
          "base_uri": "https://localhost:8080/"
        },
        "id": "SzcavFStErOX",
        "outputId": "bdbb0195-4816-4501-ce04-477677cc198f"
      },
      "execution_count": 43,
      "outputs": [
        {
          "output_type": "execute_result",
          "data": {
            "text/plain": [
              "array(['2024-01-01', '2024-01-02', '2024-01-03', '2024-01-04',\n",
              "       '2024-01-05', '2024-01-06', '2024-01-07', '2024-01-08',\n",
              "       '2024-01-09', '2024-01-10', '2024-01-11', '2024-01-12',\n",
              "       '2024-01-13', '2024-01-14', '2024-01-15', '2024-01-16',\n",
              "       '2024-01-17', '2024-01-18', '2024-01-19', '2024-01-20',\n",
              "       '2024-01-21', '2024-01-22', '2024-01-23', '2024-01-24',\n",
              "       '2024-01-25', '2024-01-26', '2024-01-27', '2024-01-28',\n",
              "       '2024-01-29', '2024-01-30', '2024-01-31'], dtype='<U28')"
            ]
          },
          "metadata": {},
          "execution_count": 43
        }
      ]
    },
    {
      "cell_type": "markdown",
      "source": [
        "# 4. Exercise 4 : Data Manipulation With NumPy And Pandas"
      ],
      "metadata": {
        "id": "3mxXUBjwGNPi"
      }
    },
    {
      "cell_type": "code",
      "source": [
        "array = np.random.randint(1,100,50)\n",
        "array"
      ],
      "metadata": {
        "colab": {
          "base_uri": "https://localhost:8080/"
        },
        "id": "gD4Ydzg-F4wx",
        "outputId": "12aa2f2b-726f-49a0-99c2-55be1728d31b"
      },
      "execution_count": 51,
      "outputs": [
        {
          "output_type": "execute_result",
          "data": {
            "text/plain": [
              "array([24, 10, 53, 84, 20, 19, 52, 56, 29, 53,  4, 85, 73, 64, 50, 70, 17,\n",
              "       70, 91, 21, 79, 74, 71, 25, 84, 65, 85, 24, 30, 55, 44, 98, 96, 55,\n",
              "       26, 61, 92, 47, 46, 83, 12, 93, 93, 43, 45, 79, 50, 30, 53,  6])"
            ]
          },
          "metadata": {},
          "execution_count": 51
        }
      ]
    },
    {
      "cell_type": "code",
      "source": [
        "array[array>70]"
      ],
      "metadata": {
        "colab": {
          "base_uri": "https://localhost:8080/"
        },
        "id": "SgC3xNaLGPsQ",
        "outputId": "49ea9a69-062c-4769-cf1c-93b016bb8f48"
      },
      "execution_count": 52,
      "outputs": [
        {
          "output_type": "execute_result",
          "data": {
            "text/plain": [
              "array([84, 85, 73, 91, 79, 74, 71, 84, 85, 98, 96, 92, 83, 93, 93, 79])"
            ]
          },
          "metadata": {},
          "execution_count": 52
        }
      ]
    },
    {
      "cell_type": "code",
      "source": [
        "array.sum()"
      ],
      "metadata": {
        "colab": {
          "base_uri": "https://localhost:8080/"
        },
        "id": "4WhwXBeXGPuh",
        "outputId": "f2a2597d-d94a-4a5d-9f21-d27db9cb9dbb"
      },
      "execution_count": 53,
      "outputs": [
        {
          "output_type": "execute_result",
          "data": {
            "text/plain": [
              "2689"
            ]
          },
          "metadata": {},
          "execution_count": 53
        }
      ]
    },
    {
      "cell_type": "code",
      "source": [
        "array.mean()"
      ],
      "metadata": {
        "colab": {
          "base_uri": "https://localhost:8080/"
        },
        "id": "SM9MJyXqGPxV",
        "outputId": "06702bf9-a8db-4211-d015-ef94092da562"
      },
      "execution_count": 54,
      "outputs": [
        {
          "output_type": "execute_result",
          "data": {
            "text/plain": [
              "53.78"
            ]
          },
          "metadata": {},
          "execution_count": 54
        }
      ]
    },
    {
      "cell_type": "markdown",
      "source": [
        "# Exercise 5 : Image Representation"
      ],
      "metadata": {
        "id": "cPODW0vRHENl"
      }
    },
    {
      "cell_type": "markdown",
      "source": [
        "Explain how images are represented in NumPy arrays and demonstrate with a simple example (e.g., creating a 5x5 grayscale image).\n"
      ],
      "metadata": {
        "id": "28jLr1U9HK-L"
      }
    },
    {
      "cell_type": "markdown",
      "source": [
        "Images are represented as multi-dimensional arrays of pixels values. Thr greyscale image has 2D-array of numbers from 0 to 255 (in RGB coding)\n"
      ],
      "metadata": {
        "id": "CPBN5cUyS5E8"
      }
    },
    {
      "cell_type": "code",
      "source": [
        "array = np.random.randint(0,256,25).reshape(5,5)\n",
        "array"
      ],
      "metadata": {
        "colab": {
          "base_uri": "https://localhost:8080/"
        },
        "id": "ExkO_d3THADx",
        "outputId": "a641540b-980e-438c-ae07-c0db9dc806ee"
      },
      "execution_count": 56,
      "outputs": [
        {
          "output_type": "execute_result",
          "data": {
            "text/plain": [
              "array([[  4, 154,  82, 181,  65],\n",
              "       [ 68, 207,  38, 173, 196],\n",
              "       [101, 120, 119, 199, 116],\n",
              "       [ 68, 238,   3, 127, 252],\n",
              "       [103, 184, 127, 241, 239]])"
            ]
          },
          "metadata": {},
          "execution_count": 56
        }
      ]
    },
    {
      "cell_type": "markdown",
      "source": [
        "# Exercise 6 : Basic Hypothesis Testing"
      ],
      "metadata": {
        "id": "WV_ZWzSvVGkr"
      }
    },
    {
      "cell_type": "code",
      "source": [
        "import numpy as np\n",
        "from scipy import stats\n",
        "\n",
        "\n",
        "# Productivity scores of employees before the training program\n",
        "productivity_before = np.random.normal(loc=50, scale=10, size=30)\n",
        "\n",
        "# Productivity scores of the same employees after the training program\n",
        "productivity_after = productivity_before + np.random.normal(loc=5, scale=3, size=30)\n",
        "\n",
        "# Your task is to formulate a hypothesis regarding the training program's effectiveness\n",
        "# and test it using basic statistical functions in NumPy.\n",
        "\n",
        "\n",
        "\n",
        "\n",
        "\n",
        "t_statistic, p_value = stats.ttest_ind(productivity_before, productivity_after)\n",
        "print(\"T-statistic:\", t_statistic)\n",
        "print(\"P-value:\", p_value)"
      ],
      "metadata": {
        "colab": {
          "base_uri": "https://localhost:8080/"
        },
        "id": "v040nPzUHGF8",
        "outputId": "25636c8a-15be-4519-aaec-105fed8dd951"
      },
      "execution_count": 27,
      "outputs": [
        {
          "output_type": "stream",
          "name": "stdout",
          "text": [
            "T-statistic: -2.0165395182208914\n",
            "P-value: 0.04838192759271978\n"
          ]
        }
      ]
    },
    {
      "cell_type": "markdown",
      "source": [
        "P-value < 5%. We can reject hypothese that productivity was increased. Productivity remains the same"
      ],
      "metadata": {
        "id": "oNulKnAxR_eP"
      }
    },
    {
      "cell_type": "markdown",
      "source": [
        "# Exercise 7 : Complex Array Comparison"
      ],
      "metadata": {
        "id": "iDFPhCFNPz88"
      }
    },
    {
      "cell_type": "code",
      "source": [
        "array1 = np.random.randint(1,20,12).reshape(3,4)\n",
        "array2 = np.random.randint(1,20,12).reshape(3,4)\n",
        "\n",
        "comparison_result = array1 > array2\n",
        "\n",
        "comparison_result"
      ],
      "metadata": {
        "colab": {
          "base_uri": "https://localhost:8080/"
        },
        "id": "UHqC90_CV9M9",
        "outputId": "0d797bdd-03b2-4a3e-a643-b4cb51526bdd"
      },
      "execution_count": 3,
      "outputs": [
        {
          "output_type": "execute_result",
          "data": {
            "text/plain": [
              "array([[False, False, False, False],\n",
              "       [False,  True, False, False],\n",
              "       [False,  True,  True, False]])"
            ]
          },
          "metadata": {},
          "execution_count": 3
        }
      ]
    },
    {
      "cell_type": "markdown",
      "source": [
        "# Exercise 8 : Time Series Data Manipulation"
      ],
      "metadata": {
        "id": "ase7HkcXSJOa"
      }
    },
    {
      "cell_type": "code",
      "source": [
        "ts_data = pd.Series(np.random.randn(365), index=pd.date_range(start=\"2023-01-01\", freq='D', periods=365))\n",
        "print(ts_data)"
      ],
      "metadata": {
        "colab": {
          "base_uri": "https://localhost:8080/"
        },
        "id": "v0wDOT2WSBlS",
        "outputId": "affc361e-fdbc-4a5f-fcf2-8638fb1f7fc6"
      },
      "execution_count": 4,
      "outputs": [
        {
          "output_type": "stream",
          "name": "stdout",
          "text": [
            "2023-01-01   -0.308556\n",
            "2023-01-02   -1.623759\n",
            "2023-01-03    0.257493\n",
            "2023-01-04    0.350705\n",
            "2023-01-05   -0.586558\n",
            "                ...   \n",
            "2023-12-27    0.362760\n",
            "2023-12-28   -0.809725\n",
            "2023-12-29    0.768719\n",
            "2023-12-30   -0.087084\n",
            "2023-12-31    0.226133\n",
            "Freq: D, Length: 365, dtype: float64\n"
          ]
        }
      ]
    },
    {
      "cell_type": "code",
      "source": [
        "jan_mar = ts_data[:'2023-03-31']\n",
        "apr_jun = ts_data['2023-04-01':'2023-06-30']\n",
        "jul_sept = ts_data['2023-07-01':'2023-09-30']\n",
        "oct_dec = ts_data['2023-10-01':]\n",
        "print(jan_mar, '\\n', apr_jun, '\\n', jul_sept, '\\n', oct_dec)"
      ],
      "metadata": {
        "colab": {
          "base_uri": "https://localhost:8080/"
        },
        "id": "KbzZ5yX5HwVe",
        "outputId": "a68f5f08-32ac-451e-f9a4-813de368366b"
      },
      "execution_count": 14,
      "outputs": [
        {
          "output_type": "stream",
          "name": "stdout",
          "text": [
            "2023-01-01   -0.308556\n",
            "2023-01-02   -1.623759\n",
            "2023-01-03    0.257493\n",
            "2023-01-04    0.350705\n",
            "2023-01-05   -0.586558\n",
            "                ...   \n",
            "2023-03-27   -0.163377\n",
            "2023-03-28    1.708283\n",
            "2023-03-29    0.691527\n",
            "2023-03-30    1.252048\n",
            "2023-03-31   -0.392076\n",
            "Freq: D, Length: 90, dtype: float64 \n",
            " 2023-04-01   -0.303314\n",
            "2023-04-02   -0.125556\n",
            "2023-04-03    0.026016\n",
            "2023-04-04    0.524613\n",
            "2023-04-05    1.091056\n",
            "                ...   \n",
            "2023-06-26    0.239702\n",
            "2023-06-27   -1.644889\n",
            "2023-06-28   -1.606830\n",
            "2023-06-29    0.853305\n",
            "2023-06-30    0.185358\n",
            "Freq: D, Length: 91, dtype: float64 \n",
            " 2023-07-01    0.817539\n",
            "2023-07-02    0.429282\n",
            "2023-07-03   -1.430907\n",
            "2023-07-04    0.538816\n",
            "2023-07-05   -0.958695\n",
            "                ...   \n",
            "2023-09-26    0.585144\n",
            "2023-09-27   -1.725228\n",
            "2023-09-28   -0.617569\n",
            "2023-09-29   -1.144491\n",
            "2023-09-30    0.054260\n",
            "Freq: D, Length: 92, dtype: float64 \n",
            " 2023-10-01   -0.249138\n",
            "2023-10-02    0.409384\n",
            "2023-10-03   -0.905590\n",
            "2023-10-04    0.842655\n",
            "2023-10-05   -0.654758\n",
            "                ...   \n",
            "2023-12-27    0.362760\n",
            "2023-12-28   -0.809725\n",
            "2023-12-29    0.768719\n",
            "2023-12-30   -0.087084\n",
            "2023-12-31    0.226133\n",
            "Freq: D, Length: 92, dtype: float64\n"
          ]
        }
      ]
    },
    {
      "cell_type": "markdown",
      "source": [
        "# Exercise 9 : Data Conversion\n"
      ],
      "metadata": {
        "id": "V7OEnwGjJcLe"
      }
    },
    {
      "cell_type": "code",
      "source": [
        "data = np.random.randint(20,40,50).reshape(25,2)\n",
        "df = pd.DataFrame(data, columns=['Age1', 'Age2'])\n",
        "print(df)"
      ],
      "metadata": {
        "colab": {
          "base_uri": "https://localhost:8080/"
        },
        "id": "zkI6e2_QJiAq",
        "outputId": "0e598c6d-93bc-45ad-b0d6-f30dbcfeebf4"
      },
      "execution_count": 19,
      "outputs": [
        {
          "output_type": "stream",
          "name": "stdout",
          "text": [
            "    Age1  Age2\n",
            "0     34    28\n",
            "1     25    35\n",
            "2     27    36\n",
            "3     25    36\n",
            "4     27    33\n",
            "5     38    24\n",
            "6     38    28\n",
            "7     23    35\n",
            "8     28    32\n",
            "9     23    29\n",
            "10    27    29\n",
            "11    23    34\n",
            "12    23    33\n",
            "13    36    24\n",
            "14    22    36\n",
            "15    37    39\n",
            "16    29    30\n",
            "17    31    30\n",
            "18    33    22\n",
            "19    27    36\n",
            "20    29    31\n",
            "21    25    35\n",
            "22    38    25\n",
            "23    34    28\n",
            "24    39    27\n"
          ]
        }
      ]
    },
    {
      "cell_type": "code",
      "source": [
        "array = df.to_numpy()\n",
        "\n",
        "print(array)"
      ],
      "metadata": {
        "colab": {
          "base_uri": "https://localhost:8080/"
        },
        "id": "5bQF3G6_JiDl",
        "outputId": "b581acbf-58ce-41fe-d31a-275e93100b79"
      },
      "execution_count": 21,
      "outputs": [
        {
          "output_type": "stream",
          "name": "stdout",
          "text": [
            "[[34 28]\n",
            " [25 35]\n",
            " [27 36]\n",
            " [25 36]\n",
            " [27 33]\n",
            " [38 24]\n",
            " [38 28]\n",
            " [23 35]\n",
            " [28 32]\n",
            " [23 29]\n",
            " [27 29]\n",
            " [23 34]\n",
            " [23 33]\n",
            " [36 24]\n",
            " [22 36]\n",
            " [37 39]\n",
            " [29 30]\n",
            " [31 30]\n",
            " [33 22]\n",
            " [27 36]\n",
            " [29 31]\n",
            " [25 35]\n",
            " [38 25]\n",
            " [34 28]\n",
            " [39 27]]\n"
          ]
        }
      ]
    },
    {
      "cell_type": "markdown",
      "source": [
        "# Exercise 10 : Basic Visualization"
      ],
      "metadata": {
        "id": "pmiEh2VaLCNZ"
      }
    },
    {
      "cell_type": "code",
      "source": [
        "arr = np.array([34,56,66,78,98])"
      ],
      "metadata": {
        "id": "q5MxCqVhJiI4"
      },
      "execution_count": 22,
      "outputs": []
    },
    {
      "cell_type": "code",
      "source": [
        "plt.plot(arr)"
      ],
      "metadata": {
        "colab": {
          "base_uri": "https://localhost:8080/",
          "height": 445
        },
        "id": "eEd3YWCkLVdm",
        "outputId": "53ffe126-e3bc-4398-d347-70bd6865656e"
      },
      "execution_count": 26,
      "outputs": [
        {
          "output_type": "execute_result",
          "data": {
            "text/plain": [
              "[<matplotlib.lines.Line2D at 0x7ccb53f58820>]"
            ]
          },
          "metadata": {},
          "execution_count": 26
        },
        {
          "output_type": "display_data",
          "data": {
            "text/plain": [
              "<Figure size 640x480 with 1 Axes>"
            ],
            "image/png": "[encoded data removed]"
          },
          "metadata": {}
        }
      ]
    },
    {
      "cell_type": "code",
      "source": [],
      "metadata": {
        "id": "Babpukj8LoHW"
      },
      "execution_count": null,
      "outputs": []
    }
  ]
}